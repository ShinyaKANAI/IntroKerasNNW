{
 "cells": [
  {
   "cell_type": "code",
   "execution_count": 1,
   "metadata": {
    "collapsed": true
   },
   "outputs": [],
   "source": [
    "import sys\n",
    "import os\n",
    "\n",
    "import numpy as np\n",
    "import matplotlib.pyplot as plt\n",
    "%matplotlib inline"
   ]
  },
  {
   "cell_type": "code",
   "execution_count": 14,
   "metadata": {
    "collapsed": true
   },
   "outputs": [],
   "source": [
    "from tensorflow.contrib.keras.python.keras.datasets import mnist\n",
    "from tensorflow.contrib.keras.python.keras.utils import np_utils\n",
    "from tensorflow.contrib.keras.python.keras.models import Sequential\n",
    "from tensorflow.contrib.keras.python.keras.layers import Dense, Dropout, Flatten\n",
    "from tensorflow.contrib.keras.python.keras.layers import Conv2D, MaxPooling2D\n",
    "from tensorflow.contrib.keras.python.keras.optimizers import SGD"
   ]
  },
  {
   "cell_type": "code",
   "execution_count": 15,
   "metadata": {
    "collapsed": true
   },
   "outputs": [],
   "source": [
    "def make_CNN_model(input_shape, output_size):\n",
    "    # Initialization\n",
    "    model = Sequential()\n",
    "    \n",
    "    # Convolution 1\n",
    "    model.add(Conv2D(32, (3, 3), activation='relu', input_shape=input_shape))\n",
    "    model.add(Conv2D(32, (3, 3), activation='relu'))\n",
    "    model.add(MaxPooling2D(pool_size=(2, 2)))\n",
    "    model.add(Dropout(0.25))\n",
    "    \n",
    "    # Convolution 2\n",
    "    model.add(Conv2D(64, (3, 3), activation='relu'))\n",
    "    model.add(Conv2D(64, (3, 3), activation='relu'))\n",
    "    model.add(MaxPooling2D(pool_size=(2,  2)))\n",
    "    model.add(Dropout(0.25))\n",
    "    \n",
    "    # Fully conected\n",
    "    model.add(Flatten())\n",
    "    model.add(Dense(256, activation='relu'))\n",
    "    model.add(Dropout(0.5))\n",
    "    model.add(Dense(output_size, activation='softmax'))\n",
    "    \n",
    "    return model"
   ]
  },
  {
   "cell_type": "code",
   "execution_count": 30,
   "metadata": {
    "collapsed": true
   },
   "outputs": [],
   "source": [
    "def preprocess(dataset):\n",
    "    (x_train, y_train), (x_test, y_test) = dataset\n",
    "    y_train_1hot = np_utils.to_categorical(y_train)\n",
    "    y_test_1hot = np_utils.to_categorical(y_test)\n",
    "    x_train_normed = (x_train / 255.).astype(np.float32)\n",
    "    x_train_normed = np.expand_dims(x_train_normed, axis=-1)\n",
    "    x_test_normed = (x_test / 255.).astype(np.float32)\n",
    "    x_test_normed = np.expand_dims(x_test_normed, axis=-1)\n",
    "    return (x_train_normed, y_train_1hot), (x_test_normed, y_test_1hot)"
   ]
  },
  {
   "cell_type": "code",
   "execution_count": 31,
   "metadata": {},
   "outputs": [],
   "source": [
    "dataset = mnist.load_data()\n",
    "(x_train, y_train), (x_test, y_test) = preprocess(dataset)"
   ]
  },
  {
   "cell_type": "code",
   "execution_count": 32,
   "metadata": {
    "collapsed": true
   },
   "outputs": [],
   "source": [
    "pixel_shape = x_train.shape[1:]\n",
    "num_labels =  y_train.shape[-1]"
   ]
  },
  {
   "cell_type": "code",
   "execution_count": 33,
   "metadata": {},
   "outputs": [
    {
     "data": {
      "text/plain": [
       "(60000, 28, 28, 1)"
      ]
     },
     "execution_count": 33,
     "metadata": {},
     "output_type": "execute_result"
    }
   ],
   "source": [
    "x_train.shape"
   ]
  },
  {
   "cell_type": "code",
   "execution_count": 34,
   "metadata": {},
   "outputs": [],
   "source": [
    "model = make_CNN_model(input_shape=pixel_shape, output_size=num_labels)"
   ]
  },
  {
   "cell_type": "code",
   "execution_count": 44,
   "metadata": {},
   "outputs": [],
   "source": [
    "sgd = SGD(lr=0.01,\n",
    "                  decay=1e-6,\n",
    "                  momentum=0.9,\n",
    "                  nesterov=True\n",
    "                 )\n",
    "model.compile(loss='categorical_crossentropy', optimizer=sgd,metrics=['accuracy'])"
   ]
  },
  {
   "cell_type": "code",
   "execution_count": 38,
   "metadata": {},
   "outputs": [
    {
     "name": "stdout",
     "output_type": "stream",
     "text": [
      "Train on 60000 samples, validate on 10000 samples\n",
      "Epoch 1/10\n",
      "60000/60000 [==============================] - 248s - loss: 0.3761 - val_loss: 0.0521\n",
      "Epoch 2/10\n",
      "60000/60000 [==============================] - 280s - loss: 0.1271 - val_loss: 0.0350\n",
      "Epoch 3/10\n",
      "60000/60000 [==============================] - 289s - loss: 0.0976 - val_loss: 0.0314\n",
      "Epoch 4/10\n",
      "60000/60000 [==============================] - 286s - loss: 0.0837 - val_loss: 0.0333\n",
      "Epoch 5/10\n",
      "60000/60000 [==============================] - 301s - loss: 0.0753 - val_loss: 0.0222\n",
      "Epoch 6/10\n",
      "60000/60000 [==============================] - 283s - loss: 0.0685 - val_loss: 0.0218\n",
      "Epoch 7/10\n",
      "60000/60000 [==============================] - 289s - loss: 0.0602 - val_loss: 0.0227\n",
      "Epoch 8/10\n",
      "60000/60000 [==============================] - 289s - loss: 0.0587 - val_loss: 0.0216\n",
      "Epoch 9/10\n",
      "60000/60000 [==============================] - 300s - loss: 0.0572 - val_loss: 0.0191\n",
      "Epoch 10/10\n",
      "60000/60000 [==============================] - 302s - loss: 0.0549 - val_loss: 0.0182\n"
     ]
    },
    {
     "data": {
      "text/plain": [
       "<tensorflow.contrib.keras.python.keras.callbacks.History at 0x13d4dbef0>"
      ]
     },
     "execution_count": 38,
     "metadata": {},
     "output_type": "execute_result"
    }
   ],
   "source": [
    "model.fit(x_train,y_train,\n",
    "                 batch_size=32,\n",
    "                 epochs=10,\n",
    "                 validation_data=(x_test, y_test)\n",
    "                 )"
   ]
  },
  {
   "cell_type": "code",
   "execution_count": 45,
   "metadata": {},
   "outputs": [
    {
     "data": {
      "text/plain": [
       "[0.018248521, 0.99449998]"
      ]
     },
     "execution_count": 45,
     "metadata": {},
     "output_type": "execute_result"
    }
   ],
   "source": [
    "model.test_on_batch(x_test,y_test)"
   ]
  },
  {
   "cell_type": "code",
   "execution_count": 46,
   "metadata": {
    "collapsed": true
   },
   "outputs": [],
   "source": [
    "model.save('cnn_model.h5')"
   ]
  },
  {
   "cell_type": "code",
   "execution_count": null,
   "metadata": {
    "collapsed": true
   },
   "outputs": [],
   "source": []
  }
 ],
 "metadata": {
  "kernelspec": {
   "display_name": "Python 3",
   "language": "python",
   "name": "python3"
  },
  "language_info": {
   "codemirror_mode": {
    "name": "ipython",
    "version": 3
   },
   "file_extension": ".py",
   "mimetype": "text/x-python",
   "name": "python",
   "nbconvert_exporter": "python",
   "pygments_lexer": "ipython3",
   "version": "3.5.3"
  }
 },
 "nbformat": 4,
 "nbformat_minor": 2
}
