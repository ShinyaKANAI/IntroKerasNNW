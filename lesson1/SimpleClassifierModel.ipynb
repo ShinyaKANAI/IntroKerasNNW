{
 "cells": [
  {
   "cell_type": "code",
   "execution_count": 1,
   "metadata": {
    "collapsed": true
   },
   "outputs": [],
   "source": [
    "'モジュールのインポート 1'\n",
    "\n",
    "# numpyはインポートする必要はありませんが、頻繁に使用することになるでしょう\n",
    "import numpy as np\n",
    "# データのプロットに使用します\n",
    "import matplotlib.pyplot as plt\n",
    "%matplotlib inline"
   ]
  },
  {
   "cell_type": "code",
   "execution_count": 2,
   "metadata": {
    "collapsed": true
   },
   "outputs": [],
   "source": [
    "'モジュールのインポート 2'\n",
    "\n",
    "# MNISTデータセット\n",
    "from tensorflow.contrib.keras.python.keras.datasets import mnist\n",
    "# シーケンシャルモデル\n",
    "from tensorflow.contrib.keras.python.keras.models import Sequential\n",
    "# それぞれ平坦化層、全結合層、活性化層\n",
    "from tensorflow.contrib.keras.python.keras.layers import Flatten, Dense, Activation\n",
    "# numpyアレイの便利な取り扱い\n",
    "from tensorflow.contrib.keras.python.keras.utils import np_utils\n",
    "# tensorflowのバックエンドエンジン\n",
    "from tensorflow.contrib.keras.api.keras import backend as K"
   ]
  },
  {
   "cell_type": "code",
   "execution_count": 3,
   "metadata": {
    "collapsed": true
   },
   "outputs": [],
   "source": [
    "'データセットの読み込み'\n",
    "\n",
    "# MNISTデータセットダウンロードし、読み込みます\n",
    "(x_train, y_train), (x_test, y_test) = mnist.load_data()"
   ]
  },
  {
   "cell_type": "code",
   "execution_count": 4,
   "metadata": {},
   "outputs": [
    {
     "name": "stdout",
     "output_type": "stream",
     "text": [
      "x_train : (60000, 28, 28)\n",
      "y_train : (60000,)\n",
      "x_test : (10000, 28, 28)\n",
      "y_test : (10000,)\n"
     ]
    }
   ],
   "source": [
    "# 訓練データ、評価データの入力データ、教師データの構造を確認します\n",
    "print('x_train :', x_train.shape)\n",
    "print('y_train :', y_train.shape)\n",
    "print('x_test :', x_test.shape)\n",
    "print('y_test :', y_test.shape)"
   ]
  },
  {
   "cell_type": "code",
   "execution_count": 5,
   "metadata": {
    "collapsed": true
   },
   "outputs": [],
   "source": [
    "'入力データを画像として表示する関数を定義'\n",
    "\n",
    "def show_samples(samples):\n",
    "    \"\"\"\n",
    "    入力：\n",
    "        samples - numpy.ndarray\n",
    "    出力：\n",
    "        None\n",
    "    \"\"\"\n",
    "    num_samples = samples.shape[0]\n",
    "    # サンプル画像の枚数分のプロット領域を作り、位置を調整します\n",
    "    fig, axs = plt.subplots(1,num_samples, figsize=(18,2))\n",
    "    fig.subplots_adjust(wspace=.05)\n",
    "    axs = axs.ravel()\n",
    "    for i in range(num_samples):\n",
    "        # サンプル画像をプロット領域に描画します\n",
    "        axs[i].imshow(samples[i], cmap='gray')\n",
    "        # 縦横の軸を消します\n",
    "        axs[i].set_xticks([])\n",
    "        axs[i].set_yticks([])\n",
    "    # プロットを表示します\n",
    "    plt.show()"
   ]
  },
  {
   "cell_type": "code",
   "execution_count": 6,
   "metadata": {},
   "outputs": [
    {
     "name": "stdout",
     "output_type": "stream",
     "text": [
      "[7 2 1 0 4 1 4 9 5 9]\n"
     ]
    },
    {
     "data": {
      "image/png": "[encoded data removed]",
      "text/plain": [
       "<matplotlib.figure.Figure at 0x11ecb3710>"
      ]
     },
     "metadata": {},
     "output_type": "display_data"
    }
   ],
   "source": [
    "'データセットの確認'\n",
    "\n",
    "# はじめの10サンプル分を選びます\n",
    "indexes = np.arange(0,10)\n",
    "# 以下のように、直接番号で指定することもできます\n",
    "# indexes = [0,1,2,3,4,5,6,7,8,9]\n",
    "# 選んだサンプルの教師ラベルを表示します\n",
    "print(y_test[indexes])\n",
    "# 選んだサンプルの入力データを表示します\n",
    "show_samples(x_test[indexes])"
   ]
  },
  {
   "cell_type": "code",
   "execution_count": 7,
   "metadata": {},
   "outputs": [
    {
     "name": "stdout",
     "output_type": "stream",
     "text": [
      "y_train_1hot : (60000, 10)\n",
      "y_test_1hot : (10000, 10)\n"
     ]
    }
   ],
   "source": [
    "'1ホットベクトルへの変換'\n",
    "\n",
    "# np_udilsから教師ラベルを1ホットベクトルに変換します\n",
    "y_train_1hot = np_utils.to_categorical(y_train)\n",
    "y_test_1hot = np_utils.to_categorical(y_test)\n",
    "# 変換後のデータの構造を確認します\n",
    "print('y_train_1hot :', y_train_1hot.shape)\n",
    "print('y_test_1hot :', y_test_1hot.shape)"
   ]
  },
  {
   "cell_type": "code",
   "execution_count": 8,
   "metadata": {},
   "outputs": [
    {
     "name": "stdout",
     "output_type": "stream",
     "text": [
      "7\n",
      "[ 0.  0.  0.  0.  0.  0.  0.  1.  0.  0.]\n"
     ]
    }
   ],
   "source": [
    "# 1ホットベクトル形式を確認します\n",
    "index = 0\n",
    "print(y_test[index])\n",
    "print(y_test_1hot[index])"
   ]
  },
  {
   "cell_type": "code",
   "execution_count": 9,
   "metadata": {
    "collapsed": true
   },
   "outputs": [],
   "source": [
    "'入力画像の正規化'\n",
    "\n",
    "x_train_normed = (x_train / 255.).astype(np.float32)\n",
    "x_test_normed = (x_test / 255.).astype(np.float32)"
   ]
  },
  {
   "cell_type": "code",
   "execution_count": 10,
   "metadata": {
    "collapsed": true
   },
   "outputs": [],
   "source": [
    "'ニューラルネットワークモデルの構築'\n",
    "\n",
    "# 入力データの形式と教師データのラベル数を取得します\n",
    "input_shape = x_train_normed.shape[1:]\n",
    "num_labels =  y_train_1hot.shape[-1]\n",
    "\n",
    "# シーケンシャルモデルのインスタンスを作ります\n",
    "model = Sequential()\n",
    "# 入力データを平坦化する層を追加します\n",
    "model.add(Flatten(input_shape =input_shape))\n",
    "# 全結合層を追加します\n",
    "model.add(Dense(num_labels))\n",
    "# 全結合層の出力をソフトマックス関数で活性化します\n",
    "model.add(Activation('softmax'))"
   ]
  },
  {
   "cell_type": "code",
   "execution_count": 11,
   "metadata": {},
   "outputs": [
    {
     "name": "stdout",
     "output_type": "stream",
     "text": [
      "_________________________________________________________________\n",
      "Layer (type)                 Output Shape              Param #   \n",
      "=================================================================\n",
      "flatten_1 (Flatten)          (None, 784)               0         \n",
      "_________________________________________________________________\n",
      "dense_1 (Dense)              (None, 10)                7850      \n",
      "_________________________________________________________________\n",
      "activation_1 (Activation)    (None, 10)                0         \n",
      "=================================================================\n",
      "Total params: 7,850\n",
      "Trainable params: 7,850\n",
      "Non-trainable params: 0\n",
      "_________________________________________________________________\n"
     ]
    }
   ],
   "source": [
    "# モデルの概要を表示します\n",
    "model.summary()"
   ]
  },
  {
   "cell_type": "code",
   "execution_count": 12,
   "metadata": {
    "collapsed": true
   },
   "outputs": [],
   "source": [
    "'モデルの学習アルゴリズムの設定'\n",
    "\n",
    "model.compile(\n",
    "    # 更新方法に「AdaDelta」を設定します\n",
    "    optimizer='adadelta',\n",
    "    # 損失関数に「CrossEntropy」を設定します\n",
    "    loss='categorical_crossentropy',\n",
    "    # 学習過程で認識精度を表示します\n",
    "    metrics=['accuracy'])"
   ]
  },
  {
   "cell_type": "code",
   "execution_count": 13,
   "metadata": {},
   "outputs": [
    {
     "name": "stdout",
     "output_type": "stream",
     "text": [
      "Train on 60000 samples, validate on 10000 samples\n",
      "Epoch 1/10\n",
      "60000/60000 [==============================] - 3s - loss: 0.6513 - acc: 0.8400 - val_loss: 1.5958 - val_acc: 0.8995\n",
      "Epoch 2/10\n",
      "60000/60000 [==============================] - 2s - loss: 0.3712 - acc: 0.8982 - val_loss: 1.4289 - val_acc: 0.9097\n",
      "Epoch 3/10\n",
      "60000/60000 [==============================] - 2s - loss: 0.3360 - acc: 0.9060 - val_loss: 1.4184 - val_acc: 0.9097\n",
      "Epoch 4/10\n",
      "60000/60000 [==============================] - 2s - loss: 0.3190 - acc: 0.9105 - val_loss: 1.3754 - val_acc: 0.9134\n",
      "Epoch 5/10\n",
      "60000/60000 [==============================] - 2s - loss: 0.3084 - acc: 0.9136 - val_loss: 1.3855 - val_acc: 0.9125\n",
      "Epoch 6/10\n",
      "60000/60000 [==============================] - 2s - loss: 0.3007 - acc: 0.9158 - val_loss: 1.3569 - val_acc: 0.9150\n",
      "Epoch 7/10\n",
      "60000/60000 [==============================] - 2s - loss: 0.2951 - acc: 0.9178 - val_loss: 1.3270 - val_acc: 0.9161\n",
      "Epoch 8/10\n",
      "60000/60000 [==============================] - 2s - loss: 0.2906 - acc: 0.9189 - val_loss: 1.3322 - val_acc: 0.9163\n",
      "Epoch 9/10\n",
      "60000/60000 [==============================] - 2s - loss: 0.2869 - acc: 0.9202 - val_loss: 1.3360 - val_acc: 0.9162\n",
      "Epoch 10/10\n",
      "60000/60000 [==============================] - 2s - loss: 0.2838 - acc: 0.9208 - val_loss: 1.3655 - val_acc: 0.9138\n"
     ]
    }
   ],
   "source": [
    "'モデルの学習'\n",
    "\n",
    "history = model.fit(\n",
    "    # 訓練データを指定します\n",
    "    x_train_normed, y_train_1hot, \n",
    "    # ミニバッチ処理のバッチサイズを設定します\n",
    "    batch_size=32,\n",
    "    # 学習エポック数を設定します\n",
    "    epochs=10,\n",
    "    # 評価データを指定します\n",
    "    validation_data=(x_test, y_test_1hot),\n",
    ")"
   ]
  },
  {
   "cell_type": "code",
   "execution_count": 14,
   "metadata": {},
   "outputs": [
    {
     "name": "stdout",
     "output_type": "stream",
     "text": [
      "10/10 [==============================] - 0s\n",
      "predictions : [7 2 1 0 4 1 4 9 6 9]\n",
      "answers      : [7 2 1 0 4 1 4 9 5 9]\n"
     ]
    },
    {
     "data": {
      "image/png": "[encoded data removed]",
      "text/plain": [
       "<matplotlib.figure.Figure at 0x128780f60>"
      ]
     },
     "metadata": {},
     "output_type": "display_data"
    }
   ],
   "source": [
    "'学習済みモデルの利用'\n",
    "\n",
    "# 評価データから10個のサンプルを取得します\n",
    "indexes = np.arange(0,10)\n",
    "samples = x_test_normed[indexes]\n",
    "# 選んだサンプルデータをモデルに入力し、識別結果を取得します\n",
    "predictions = model.predict_classes(samples)\n",
    "# 正解データと比較をします\n",
    "answers = y_test[indexes]\n",
    "print('predictions :', predictions)\n",
    "print('answers      :', answers)\n",
    "show_samples(samples)"
   ]
  },
  {
   "cell_type": "code",
   "execution_count": 15,
   "metadata": {
    "collapsed": true
   },
   "outputs": [],
   "source": [
    "model.save('simple_model.h5')"
   ]
  },
  {
   "cell_type": "code",
   "execution_count": null,
   "metadata": {
    "collapsed": true
   },
   "outputs": [],
   "source": []
  }
 ],
 "metadata": {
  "kernelspec": {
   "display_name": "Python 3",
   "language": "python",
   "name": "python3"
  },
  "language_info": {
   "codemirror_mode": {
    "name": "ipython",
    "version": 3
   },
   "file_extension": ".py",
   "mimetype": "text/x-python",
   "name": "python",
   "nbconvert_exporter": "python",
   "pygments_lexer": "ipython3",
   "version": "3.5.3"
  }
 },
 "nbformat": 4,
 "nbformat_minor": 2
}
