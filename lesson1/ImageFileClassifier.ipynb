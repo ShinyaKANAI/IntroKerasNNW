{
 "cells": [
  {
   "cell_type": "code",
   "execution_count": 1,
   "metadata": {
    "collapsed": true
   },
   "outputs": [],
   "source": [
    "'モジュールのインポート 1'\n",
    "\n",
    "import numpy as np\n",
    "import matplotlib.pyplot as plt\n",
    "%matplotlib inline\n",
    "# 画像の取り扱いに使用するモジュールです\n",
    "from PIL import Image, ImageOps"
   ]
  },
  {
   "cell_type": "code",
   "execution_count": 2,
   "metadata": {
    "collapsed": true
   },
   "outputs": [],
   "source": [
    "'モジュールのインポート 2'\n",
    "\n",
    "# 学習済みモデルの読み込み時に使用します\n",
    "from tensorflow.contrib.keras.python.keras.models import Model, load_model"
   ]
  },
  {
   "cell_type": "code",
   "execution_count": 3,
   "metadata": {
    "collapsed": true
   },
   "outputs": [],
   "source": [
    "'モデルの読み込み' \n",
    "\n",
    "# SimpleClassifierModel.ipynbのIn [15]:で指定したパスを指定します\n",
    "model_path = 'simple_model.h5'\n",
    "model = load_model(model_path)"
   ]
  },
  {
   "cell_type": "code",
   "execution_count": 4,
   "metadata": {
    "collapsed": true
   },
   "outputs": [],
   "source": [
    "'画像ファイルを読み込む関数を定義'\n",
    "def load_img(filepath):\n",
    "    \"\"\"\n",
    "    入力：\n",
    "        filepath - str\n",
    "    出力：\n",
    "        image - numpy.ndarray\n",
    "    \"\"\"\n",
    "    \n",
    "    # 画像ファイルを読み込み、白黒にします\n",
    "    image = Image.open(filepath)\n",
    "    image = ImageOps.grayscale(image)\n",
    "    # 画像をモデルで使える形式に変換します\n",
    "    image = np.array(image)\n",
    "    image = image / 255.\n",
    "    image = image.astype(np.float32)\n",
    "    image = np.expand_dims(image, axis=0)\n",
    "    return image"
   ]
  },
  {
   "cell_type": "code",
   "execution_count": 5,
   "metadata": {},
   "outputs": [
    {
     "data": {
      "image/png": "[encoded data removed]",
      "text/plain": [
       "<matplotlib.figure.Figure at 0x11f21e550>"
      ]
     },
     "metadata": {},
     "output_type": "display_data"
    }
   ],
   "source": [
    "'サンプル画像の表示'\n",
    "\n",
    "img = load_img('sample_3.png')\n",
    "plt.imshow(img[0], cmap='gray')\n",
    "plt.show()"
   ]
  },
  {
   "cell_type": "code",
   "execution_count": 6,
   "metadata": {},
   "outputs": [
    {
     "name": "stdout",
     "output_type": "stream",
     "text": [
      "1/1 [==============================] - 0s\n",
      "これは 3 です\n"
     ]
    }
   ],
   "source": [
    "'学習済みモデルによる識別'\n",
    "\n",
    "prediction = model.predict_classes(img)\n",
    "print('これは', prediction[0], 'です')"
   ]
  }
 ],
 "metadata": {
  "kernelspec": {
   "display_name": "Python 3",
   "language": "python",
   "name": "python3"
  },
  "language_info": {
   "codemirror_mode": {
    "name": "ipython",
    "version": 3
   },
   "file_extension": ".py",
   "mimetype": "text/x-python",
   "name": "python",
   "nbconvert_exporter": "python",
   "pygments_lexer": "ipython3",
   "version": "3.5.3"
  }
 },
 "nbformat": 4,
 "nbformat_minor": 2
}
